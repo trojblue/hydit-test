{
 "cells": [
  {
   "cell_type": "code",
   "execution_count": 1,
   "metadata": {},
   "outputs": [
    {
     "name": "stdout",
     "output_type": "stream",
     "text": [
      "An error occurred: Error creating dataset. Could not read schema from '../dataset/porcelain/arrows/00000.arrow'. Is this a 'parquet' file?: Could not open Parquet input source '../dataset/porcelain/arrows/00000.arrow': Parquet magic bytes not found in footer. Either the file is corrupted or this is not a parquet file.\n"
     ]
    }
   ],
   "source": [
    "import pyarrow.parquet as pq\n",
    "\n",
    "def check_arrow_file(file_path):\n",
    "    try:\n",
    "        # Read the Arrow file\n",
    "        table = pq.read_table(file_path)\n",
    "        # Check if the table is empty\n",
    "        if table.num_rows == 0:\n",
    "            print(\"The Arrow file is empty.\")\n",
    "        else:\n",
    "            print(f\"The Arrow file has {table.num_rows} rows.\")\n",
    "            print(table.schema)\n",
    "    except Exception as e:\n",
    "        print(f\"An error occurred: {e}\")\n",
    "\n",
    "# Path to your Arrow file\n",
    "file_path = '../dataset/porcelain/arrows/00000.arrow'\n",
    "check_arrow_file(file_path)"
   ]
  },
  {
   "cell_type": "code",
   "execution_count": 1,
   "metadata": {},
   "outputs": [
    {
     "name": "stdout",
     "output_type": "stream",
     "text": [
      "Calculating cum_length...\n"
     ]
    },
    {
     "name": "stderr",
     "output_type": "stream",
     "text": [
      "         159: 100%|██████████| 1/1 [00:00<00:00, 1219.98it/s]\n"
     ]
    },
    {
     "name": "stdout",
     "output_type": "stream",
     "text": [
      "Encoding arrow files...\n"
     ]
    },
    {
     "name": "stderr",
     "output_type": "stream",
     "text": [
      "100%|██████████| 1/1 [00:00<00:00, 27413.75it/s]"
     ]
    },
    {
     "name": "stdout",
     "output_type": "stream",
     "text": [
      "Calculating group length...\n",
      "Group length already calculated, skip.\n"
     ]
    },
    {
     "name": "stderr",
     "output_type": "stream",
     "text": [
      "\n"
     ]
    }
   ],
   "source": [
    "from index_kits import IndexV2Builder\n",
    "\n",
    "\n",
    "arrow_files= [\"/rmt/yada/apps/hydit-test/dataset/porcelain/arrows/00000.arrow\",]\n",
    "\n",
    "builder = IndexV2Builder(arrow_files)\n",
    "builder.save('porcelain.json')"
   ]
  }
 ],
 "metadata": {
  "kernelspec": {
   "display_name": "base",
   "language": "python",
   "name": "python3"
  },
  "language_info": {
   "codemirror_mode": {
    "name": "ipython",
    "version": 3
   },
   "file_extension": ".py",
   "mimetype": "text/x-python",
   "name": "python",
   "nbconvert_exporter": "python",
   "pygments_lexer": "ipython3",
   "version": "3.10.13"
  }
 },
 "nbformat": 4,
 "nbformat_minor": 2
}
